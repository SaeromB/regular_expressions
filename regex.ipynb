{
 "cells": [
  {
   "cell_type": "code",
   "execution_count": 50,
   "metadata": {},
   "outputs": [
    {
     "name": "stdout",
     "output_type": "stream",
     "text": [
      "<re.Match object; span=(20, 33), match='010-4939-0099'>\n"
     ]
    }
   ],
   "source": [
    "# 정규표현식 모듈을 불러온다\n",
    "import re\n",
    "\n",
    "text_example = '안녕하세요 홍길동입니다. 전화번호는 010-4939-0099 입니다.'\n",
    "\n",
    "# 우선 전화번호를 찾는 정규표현식을 작성합니다.\n",
    "# re.search를 통해 해당 정규표현식에 맞는 전화번호를 찾을 수 있습니다.\n",
    "phone_number = re.search(r'(\\d{3})-(\\d{4})-(\\d{4})', text_example)\n",
    "print(phone_number)"
   ]
  },
  {
   "cell_type": "code",
   "execution_count": 57,
   "metadata": {},
   "outputs": [
    {
     "name": "stdout",
     "output_type": "stream",
     "text": [
      "<re.Match object; span=(20, 33), match='010-4939-0099'>\n"
     ]
    }
   ],
   "source": [
    "# re.search를 사용하지 않고 re.compile 를 사용하여 정규표현식을 컴파일하여 사용할 수 있습니다.\n",
    "# re.compile 를 사용하는 경우에는 여러번 재사용이 가능합니다.\n",
    "p_n = re.compile('(\\d{3})-(\\d{4})-(\\d{4})')\n",
    "find_number = p_n.search(text_example)\n",
    "print(find_number)"
   ]
  },
  {
   "cell_type": "code",
   "execution_count": 86,
   "metadata": {},
   "outputs": [],
   "source": [
    "# 다른 예시를 들어보겠습니다.\n",
    "# 다양한 이메일에서 gmail만 해당하는 메일을 찾는다고 합시다.\n",
    "email_example =['John.Smith@example.com',\n",
    "'jsmith@example.com',\n",
    "'john.smith@example.org',\n",
    "'John..Doe@example.com',\n",
    "'john.smith@example.com',\n",
    "'john.smith@example.com',\n",
    "'john.smith@gmail.com']\n"
   ]
  },
  {
   "cell_type": "code",
   "execution_count": 88,
   "metadata": {},
   "outputs": [
    {
     "name": "stdout",
     "output_type": "stream",
     "text": [
      "['john.smith@gmail.com']\n"
     ]
    }
   ],
   "source": [
    "# 숫자나 알파벳으로 시작하고 . 아님 _ 아님 - 이 나오고 @gmail.com 이 나오는 이메일 찾아라\n",
    "gmail_regex = re.compile(r'^[\\w._\\-]+@gmail\\.com')\n",
    "find_gmail = list(filter(gmail_regex.match, email_example))\n",
    "print(find_gmail)"
   ]
  },
  {
   "cell_type": "code",
   "execution_count": null,
   "metadata": {},
   "outputs": [],
   "source": []
  },
  {
   "cell_type": "code",
   "execution_count": null,
   "metadata": {},
   "outputs": [],
   "source": []
  }
 ],
 "metadata": {
  "kernelspec": {
   "display_name": "Python 3",
   "language": "python",
   "name": "python3"
  },
  "language_info": {
   "codemirror_mode": {
    "name": "ipython",
    "version": 3
   },
   "file_extension": ".py",
   "mimetype": "text/x-python",
   "name": "python",
   "nbconvert_exporter": "python",
   "pygments_lexer": "ipython3",
   "version": "3.7.1"
  }
 },
 "nbformat": 4,
 "nbformat_minor": 2
}
